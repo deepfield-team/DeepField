{
 "cells": [
  {
   "cell_type": "markdown",
   "id": "7e68e1b0-19aa-4117-8a72-ef754ec07ae1",
   "metadata": {},
   "source": [
    "# Restart Field"
   ]
  },
  {
   "cell_type": "markdown",
   "id": "fcca8239-31ba-48d8-9bf3-b41b0fb15f9a",
   "metadata": {},
   "source": [
    "In this turorial Deepfield we deomnstrate processing of restart models. Recall that restart models is a special option used in simulators to continue modeling from the moment the calculation of the previous model is finished. The previous model is called the histrorical model."
   ]
  },
  {
   "cell_type": "code",
   "execution_count": 1,
   "id": "5572a219-6a3f-4047-a361-d86cef4c457d",
   "metadata": {},
   "outputs": [],
   "source": [
    "import sys\n",
    "sys.path.append('..')\n",
    "\n",
    "from deepfield import Field, RestartField, execute_tnav_models"
   ]
  },
  {
   "cell_type": "markdown",
   "id": "342320b5-819b-45d8-8077-dad55cc11d57",
   "metadata": {},
   "source": [
    "First, let us use tNavigator to calculate both historical and restart models using `execute_tnav_models` function"
   ]
  },
  {
   "cell_type": "code",
   "execution_count": 2,
   "id": "9684bbe1-a9a1-4b17-bc64-ee91e69d989d",
   "metadata": {},
   "outputs": [],
   "source": [
    "tnav_binary_path =  # path to tNav binary\n",
    "tnav_licence_url =  # licence url"
   ]
  },
  {
   "cell_type": "markdown",
   "id": "a012f6d7",
   "metadata": {},
   "source": [
    "Calculate the historical model:"
   ]
  },
  {
   "cell_type": "code",
   "execution_count": 3,
   "id": "16944d3c-3ac3-40e0-a4dc-09c2b2734184",
   "metadata": {},
   "outputs": [
    {
     "name": "stderr",
     "output_type": "stream",
     "text": [
      "100%|███████████████████████████████████████████████████████████████████████████████████| 1/1 [04:30<00:00, 270.67s/it]\n"
     ]
    }
   ],
   "source": [
    "execute_tnav_models('../bin/tnav_run.sh',\n",
    "                    ['../open_data/norne_simplified/norne_simplified.data'],\n",
    "                    tnav_licence_url,\n",
    "                    tnav_path=tnav_binary_path,\n",
    "                    logfile='run.log')"
   ]
  },
  {
   "cell_type": "markdown",
   "id": "0f6014de",
   "metadata": {},
   "source": [
    "Calculate the restart model:"
   ]
  },
  {
   "cell_type": "code",
   "execution_count": 5,
   "id": "d06ee55e-39e5-4af4-a7ca-e363542afb3c",
   "metadata": {},
   "outputs": [
    {
     "name": "stderr",
     "output_type": "stream",
     "text": [
      "100%|███████████████████████████████████████████████████████████████████████████████████| 1/1 [02:52<00:00, 172.26s/it]\n"
     ]
    }
   ],
   "source": [
    "execute_tnav_models('../bin/tnav_run.sh',\n",
    "                    ['../open_data/norne_simplified_restart/norne_simplified_restart.data'],\n",
    "                    tnav_licence_url ,\n",
    "                    tnav_path=tnav_binary_path,\n",
    "                    logfile='run_restart.log')"
   ]
  },
  {
   "cell_type": "markdown",
   "id": "f754ce9b-e5eb-40ff-8841-344609519da8",
   "metadata": {},
   "source": [
    "The restart model is loaded using `RestartField`:"
   ]
  },
  {
   "cell_type": "code",
   "execution_count": 7,
   "id": "162ee3aa-d770-4950-8a9b-b4d15d8127da",
   "metadata": {},
   "outputs": [
    {
     "name": "stdout",
     "output_type": "stream",
     "text": [
      "INFO:Field:Start reading norne_simplified_restart.data\n",
      "INFO:Field:[norne_simplified_restart.data:1] Loading RESTARTDATE\n",
      "INFO:Field:[norne_simplified_restart.data:21] Include .../open_data/norne_simplified_restart/schedule.inc\n",
      "INFO:Field:Start reading schedule.inc\n",
      "INFO:Field:[schedule.inc:5] Loading DATES\n",
      "INFO:Field:[schedule.inc:27] Loading DATES\n",
      "INFO:Field:[schedule.inc:49] Loading DATES\n",
      "INFO:Field:[schedule.inc:71] Loading DATES\n",
      "INFO:Field:[schedule.inc:91] Loading DATES\n",
      "INFO:Field:[schedule.inc:112] Loading DATES\n",
      "...............................................................................................................................\n",
      "INFO:Field:Start reading ../open_data/norne_simplified_restart/RESULTS/norne_simplified_restart.RSM\n",
      "INFO:Field:Finish reading ../open_data/norne_simplified_restart/RESULTS/norne_simplified_restart.RSM\n",
      "INFO:Field:===== Field summary =====\n",
      "WARNING:Field:Missed start date, set default 1 JAN 1973.\n",
      "ERROR:Field:Start date and DATES are not monotone.\n",
      "INFO:Field:STATES attributes: PRESSURE, RS, SGAS, SOIL, SWAT\n",
      "INFO:Field:WELLS attributes: WELSPECS, WCONINJE, WELLTRACK, COMPDAT, WCONPROD, RESULTS\n",
      "INFO:Field:=========================\n"
     ]
    }
   ],
   "source": [
    "field = RestartField('../open_data/norne_simplified_restart/norne_simplified_restart.data').load()"
   ]
  },
  {
   "cell_type": "markdown",
   "id": "eb37b3c4-71d0-40c6-a9fa-42f686daa5e8",
   "metadata": {},
   "source": [
    "The loaded `field` contains data for both the historical model and the restart model. The historical model can be accessed using the `field.parent` attribute, while the data for the restart model is stored directly in `field`.\n",
    "\n",
    "Some componets are shared between both models, for example, grid data:"
   ]
  },
  {
   "cell_type": "code",
   "execution_count": 12,
   "id": "fd1c3fb8-49ff-4461-99e1-b38a170d0ed3",
   "metadata": {},
   "outputs": [
    {
     "data": {
      "text/plain": [
       "True"
      ]
     },
     "execution_count": 12,
     "metadata": {},
     "output_type": "execute_result"
    }
   ],
   "source": [
    "field.grid is field.parent.grid"
   ]
  },
  {
   "cell_type": "markdown",
   "id": "ad808080-1903-4a1d-a2ff-dd626f3eb574",
   "metadata": {},
   "source": [
    "In contrast, the production rates in the two models are different because they correspond to different time periods. For example, let us compare the production rates in the historical model:"
   ]
  },
  {
   "cell_type": "code",
   "execution_count": 6,
   "id": "c0bb8d79-2506-4dc8-a268-e3bd532b4acc",
   "metadata": {},
   "outputs": [
    {
     "data": {
      "text/html": [
       "<div>\n",
       "<style scoped>\n",
       "    .dataframe tbody tr th:only-of-type {\n",
       "        vertical-align: middle;\n",
       "    }\n",
       "\n",
       "    .dataframe tbody tr th {\n",
       "        vertical-align: top;\n",
       "    }\n",
       "\n",
       "    .dataframe thead th {\n",
       "        text-align: right;\n",
       "    }\n",
       "</style>\n",
       "<table border=\"1\" class=\"dataframe\">\n",
       "  <thead>\n",
       "    <tr style=\"text-align: right;\">\n",
       "      <th></th>\n",
       "      <th>DATE</th>\n",
       "      <th>WWPR</th>\n",
       "      <th>WOPR</th>\n",
       "      <th>WGPR</th>\n",
       "      <th>WWIR</th>\n",
       "      <th>WBHP</th>\n",
       "    </tr>\n",
       "  </thead>\n",
       "  <tbody>\n",
       "    <tr>\n",
       "      <th>0</th>\n",
       "      <td>1997-11-06</td>\n",
       "      <td>0.0</td>\n",
       "      <td>0.0</td>\n",
       "      <td>0.0</td>\n",
       "      <td>0.0</td>\n",
       "      <td>0.0000</td>\n",
       "    </tr>\n",
       "    <tr>\n",
       "      <th>1</th>\n",
       "      <td>1997-11-14</td>\n",
       "      <td>0.0</td>\n",
       "      <td>0.0</td>\n",
       "      <td>0.0</td>\n",
       "      <td>0.0</td>\n",
       "      <td>0.0000</td>\n",
       "    </tr>\n",
       "    <tr>\n",
       "      <th>2</th>\n",
       "      <td>1997-12-01</td>\n",
       "      <td>0.0</td>\n",
       "      <td>0.0</td>\n",
       "      <td>0.0</td>\n",
       "      <td>0.0</td>\n",
       "      <td>0.0000</td>\n",
       "    </tr>\n",
       "    <tr>\n",
       "      <th>3</th>\n",
       "      <td>1997-12-17</td>\n",
       "      <td>0.0</td>\n",
       "      <td>0.0</td>\n",
       "      <td>0.0</td>\n",
       "      <td>0.0</td>\n",
       "      <td>0.0000</td>\n",
       "    </tr>\n",
       "    <tr>\n",
       "      <th>4</th>\n",
       "      <td>1998-01-01</td>\n",
       "      <td>0.0</td>\n",
       "      <td>0.0</td>\n",
       "      <td>0.0</td>\n",
       "      <td>0.0</td>\n",
       "      <td>0.0000</td>\n",
       "    </tr>\n",
       "    <tr>\n",
       "      <th>...</th>\n",
       "      <td>...</td>\n",
       "      <td>...</td>\n",
       "      <td>...</td>\n",
       "      <td>...</td>\n",
       "      <td>...</td>\n",
       "      <td>...</td>\n",
       "    </tr>\n",
       "    <tr>\n",
       "      <th>243</th>\n",
       "      <td>2006-11-01</td>\n",
       "      <td>0.0</td>\n",
       "      <td>0.0</td>\n",
       "      <td>0.0</td>\n",
       "      <td>0.0</td>\n",
       "      <td>197.4303</td>\n",
       "    </tr>\n",
       "    <tr>\n",
       "      <th>244</th>\n",
       "      <td>2006-11-09</td>\n",
       "      <td>0.0</td>\n",
       "      <td>0.0</td>\n",
       "      <td>0.0</td>\n",
       "      <td>0.0</td>\n",
       "      <td>198.2078</td>\n",
       "    </tr>\n",
       "    <tr>\n",
       "      <th>245</th>\n",
       "      <td>2006-11-11</td>\n",
       "      <td>0.0</td>\n",
       "      <td>0.0</td>\n",
       "      <td>0.0</td>\n",
       "      <td>0.0</td>\n",
       "      <td>198.2498</td>\n",
       "    </tr>\n",
       "    <tr>\n",
       "      <th>246</th>\n",
       "      <td>2006-11-17</td>\n",
       "      <td>0.0</td>\n",
       "      <td>0.0</td>\n",
       "      <td>0.0</td>\n",
       "      <td>0.0</td>\n",
       "      <td>197.9522</td>\n",
       "    </tr>\n",
       "    <tr>\n",
       "      <th>247</th>\n",
       "      <td>2006-12-01</td>\n",
       "      <td>0.0</td>\n",
       "      <td>0.0</td>\n",
       "      <td>0.0</td>\n",
       "      <td>0.0</td>\n",
       "      <td>197.4962</td>\n",
       "    </tr>\n",
       "  </tbody>\n",
       "</table>\n",
       "<p>248 rows × 6 columns</p>\n",
       "</div>"
      ],
      "text/plain": [
       "          DATE  WWPR  WOPR  WGPR  WWIR      WBHP\n",
       "0   1997-11-06   0.0   0.0   0.0   0.0    0.0000\n",
       "1   1997-11-14   0.0   0.0   0.0   0.0    0.0000\n",
       "2   1997-12-01   0.0   0.0   0.0   0.0    0.0000\n",
       "3   1997-12-17   0.0   0.0   0.0   0.0    0.0000\n",
       "4   1998-01-01   0.0   0.0   0.0   0.0    0.0000\n",
       "..         ...   ...   ...   ...   ...       ...\n",
       "243 2006-11-01   0.0   0.0   0.0   0.0  197.4303\n",
       "244 2006-11-09   0.0   0.0   0.0   0.0  198.2078\n",
       "245 2006-11-11   0.0   0.0   0.0   0.0  198.2498\n",
       "246 2006-11-17   0.0   0.0   0.0   0.0  197.9522\n",
       "247 2006-12-01   0.0   0.0   0.0   0.0  197.4962\n",
       "\n",
       "[248 rows x 6 columns]"
      ]
     },
     "execution_count": 6,
     "metadata": {},
     "output_type": "execute_result"
    }
   ],
   "source": [
    "field.parent.wells['D-3AH'].results"
   ]
  },
  {
   "cell_type": "markdown",
   "id": "79499970-3e67-4b24-bc38-fb589c8547d7",
   "metadata": {},
   "source": [
    "with production rates in the restart model:"
   ]
  },
  {
   "cell_type": "code",
   "execution_count": 7,
   "id": "f647bd90-eb89-438b-93f1-497d47eb6d06",
   "metadata": {},
   "outputs": [
    {
     "data": {
      "text/html": [
       "<div>\n",
       "<style scoped>\n",
       "    .dataframe tbody tr th:only-of-type {\n",
       "        vertical-align: middle;\n",
       "    }\n",
       "\n",
       "    .dataframe tbody tr th {\n",
       "        vertical-align: top;\n",
       "    }\n",
       "\n",
       "    .dataframe thead th {\n",
       "        text-align: right;\n",
       "    }\n",
       "</style>\n",
       "<table border=\"1\" class=\"dataframe\">\n",
       "  <thead>\n",
       "    <tr style=\"text-align: right;\">\n",
       "      <th></th>\n",
       "      <th>DATE</th>\n",
       "      <th>WWPR</th>\n",
       "      <th>WOPR</th>\n",
       "      <th>WGPR</th>\n",
       "      <th>WWIR</th>\n",
       "      <th>WBHP</th>\n",
       "    </tr>\n",
       "  </thead>\n",
       "  <tbody>\n",
       "    <tr>\n",
       "      <th>0</th>\n",
       "      <td>2003-01-01</td>\n",
       "      <td>0.0</td>\n",
       "      <td>0.0</td>\n",
       "      <td>0.0</td>\n",
       "      <td>0.0</td>\n",
       "      <td>210.0209</td>\n",
       "    </tr>\n",
       "    <tr>\n",
       "      <th>1</th>\n",
       "      <td>2003-01-02</td>\n",
       "      <td>0.0</td>\n",
       "      <td>0.0</td>\n",
       "      <td>0.0</td>\n",
       "      <td>0.0</td>\n",
       "      <td>210.0584</td>\n",
       "    </tr>\n",
       "    <tr>\n",
       "      <th>2</th>\n",
       "      <td>2003-01-12</td>\n",
       "      <td>0.0</td>\n",
       "      <td>0.0</td>\n",
       "      <td>0.0</td>\n",
       "      <td>0.0</td>\n",
       "      <td>209.8909</td>\n",
       "    </tr>\n",
       "    <tr>\n",
       "      <th>3</th>\n",
       "      <td>2003-01-20</td>\n",
       "      <td>0.0</td>\n",
       "      <td>0.0</td>\n",
       "      <td>0.0</td>\n",
       "      <td>0.0</td>\n",
       "      <td>209.9832</td>\n",
       "    </tr>\n",
       "    <tr>\n",
       "      <th>4</th>\n",
       "      <td>2003-02-01</td>\n",
       "      <td>0.0</td>\n",
       "      <td>0.0</td>\n",
       "      <td>0.0</td>\n",
       "      <td>0.0</td>\n",
       "      <td>209.8230</td>\n",
       "    </tr>\n",
       "    <tr>\n",
       "      <th>...</th>\n",
       "      <td>...</td>\n",
       "      <td>...</td>\n",
       "      <td>...</td>\n",
       "      <td>...</td>\n",
       "      <td>...</td>\n",
       "      <td>...</td>\n",
       "    </tr>\n",
       "    <tr>\n",
       "      <th>96</th>\n",
       "      <td>2006-11-01</td>\n",
       "      <td>0.0</td>\n",
       "      <td>0.0</td>\n",
       "      <td>0.0</td>\n",
       "      <td>0.0</td>\n",
       "      <td>197.2492</td>\n",
       "    </tr>\n",
       "    <tr>\n",
       "      <th>97</th>\n",
       "      <td>2006-11-09</td>\n",
       "      <td>0.0</td>\n",
       "      <td>0.0</td>\n",
       "      <td>0.0</td>\n",
       "      <td>0.0</td>\n",
       "      <td>198.0447</td>\n",
       "    </tr>\n",
       "    <tr>\n",
       "      <th>98</th>\n",
       "      <td>2006-11-11</td>\n",
       "      <td>0.0</td>\n",
       "      <td>0.0</td>\n",
       "      <td>0.0</td>\n",
       "      <td>0.0</td>\n",
       "      <td>198.0919</td>\n",
       "    </tr>\n",
       "    <tr>\n",
       "      <th>99</th>\n",
       "      <td>2006-11-17</td>\n",
       "      <td>0.0</td>\n",
       "      <td>0.0</td>\n",
       "      <td>0.0</td>\n",
       "      <td>0.0</td>\n",
       "      <td>197.8105</td>\n",
       "    </tr>\n",
       "    <tr>\n",
       "      <th>100</th>\n",
       "      <td>2006-12-01</td>\n",
       "      <td>0.0</td>\n",
       "      <td>0.0</td>\n",
       "      <td>0.0</td>\n",
       "      <td>0.0</td>\n",
       "      <td>197.3844</td>\n",
       "    </tr>\n",
       "  </tbody>\n",
       "</table>\n",
       "<p>101 rows × 6 columns</p>\n",
       "</div>"
      ],
      "text/plain": [
       "          DATE  WWPR  WOPR  WGPR  WWIR      WBHP\n",
       "0   2003-01-01   0.0   0.0   0.0   0.0  210.0209\n",
       "1   2003-01-02   0.0   0.0   0.0   0.0  210.0584\n",
       "2   2003-01-12   0.0   0.0   0.0   0.0  209.8909\n",
       "3   2003-01-20   0.0   0.0   0.0   0.0  209.9832\n",
       "4   2003-02-01   0.0   0.0   0.0   0.0  209.8230\n",
       "..         ...   ...   ...   ...   ...       ...\n",
       "96  2006-11-01   0.0   0.0   0.0   0.0  197.2492\n",
       "97  2006-11-09   0.0   0.0   0.0   0.0  198.0447\n",
       "98  2006-11-11   0.0   0.0   0.0   0.0  198.0919\n",
       "99  2006-11-17   0.0   0.0   0.0   0.0  197.8105\n",
       "100 2006-12-01   0.0   0.0   0.0   0.0  197.3844\n",
       "\n",
       "[101 rows x 6 columns]"
      ]
     },
     "execution_count": 7,
     "metadata": {},
     "output_type": "execute_result"
    }
   ],
   "source": [
    "field.wells['D-3AH'].results"
   ]
  },
  {
   "cell_type": "markdown",
   "id": "89a1bdff-1b53-4f3c-bec5-9fd1df9e6915",
   "metadata": {},
   "source": [
    "The historical and restart models can be concatenated in a single model:"
   ]
  },
  {
   "cell_type": "code",
   "execution_count": 11,
   "id": "805fb106-3cfd-46bd-8321-b858a87291f7",
   "metadata": {},
   "outputs": [],
   "source": [
    "full_field = field.full_model()"
   ]
  },
  {
   "cell_type": "markdown",
   "id": "4e7550d2",
   "metadata": {},
   "source": [
    "The concatenated model covers both historical and restart time periods, e.g.:"
   ]
  },
  {
   "cell_type": "code",
   "execution_count": 12,
   "id": "0b0f176a-e6ad-4632-9c91-03930a3ef432",
   "metadata": {},
   "outputs": [
    {
     "data": {
      "text/html": [
       "<div>\n",
       "<style scoped>\n",
       "    .dataframe tbody tr th:only-of-type {\n",
       "        vertical-align: middle;\n",
       "    }\n",
       "\n",
       "    .dataframe tbody tr th {\n",
       "        vertical-align: top;\n",
       "    }\n",
       "\n",
       "    .dataframe thead th {\n",
       "        text-align: right;\n",
       "    }\n",
       "</style>\n",
       "<table border=\"1\" class=\"dataframe\">\n",
       "  <thead>\n",
       "    <tr style=\"text-align: right;\">\n",
       "      <th></th>\n",
       "      <th>DATE</th>\n",
       "      <th>WWPR</th>\n",
       "      <th>WOPR</th>\n",
       "      <th>WGPR</th>\n",
       "      <th>WWIR</th>\n",
       "      <th>WBHP</th>\n",
       "    </tr>\n",
       "  </thead>\n",
       "  <tbody>\n",
       "    <tr>\n",
       "      <th>0</th>\n",
       "      <td>1997-11-06</td>\n",
       "      <td>0.0</td>\n",
       "      <td>0.0</td>\n",
       "      <td>0.0</td>\n",
       "      <td>0.0</td>\n",
       "      <td>0.0000</td>\n",
       "    </tr>\n",
       "    <tr>\n",
       "      <th>1</th>\n",
       "      <td>1997-11-14</td>\n",
       "      <td>0.0</td>\n",
       "      <td>0.0</td>\n",
       "      <td>0.0</td>\n",
       "      <td>0.0</td>\n",
       "      <td>0.0000</td>\n",
       "    </tr>\n",
       "    <tr>\n",
       "      <th>2</th>\n",
       "      <td>1997-12-01</td>\n",
       "      <td>0.0</td>\n",
       "      <td>0.0</td>\n",
       "      <td>0.0</td>\n",
       "      <td>0.0</td>\n",
       "      <td>0.0000</td>\n",
       "    </tr>\n",
       "    <tr>\n",
       "      <th>3</th>\n",
       "      <td>1997-12-17</td>\n",
       "      <td>0.0</td>\n",
       "      <td>0.0</td>\n",
       "      <td>0.0</td>\n",
       "      <td>0.0</td>\n",
       "      <td>0.0000</td>\n",
       "    </tr>\n",
       "    <tr>\n",
       "      <th>4</th>\n",
       "      <td>1998-01-01</td>\n",
       "      <td>0.0</td>\n",
       "      <td>0.0</td>\n",
       "      <td>0.0</td>\n",
       "      <td>0.0</td>\n",
       "      <td>0.0000</td>\n",
       "    </tr>\n",
       "    <tr>\n",
       "      <th>...</th>\n",
       "      <td>...</td>\n",
       "      <td>...</td>\n",
       "      <td>...</td>\n",
       "      <td>...</td>\n",
       "      <td>...</td>\n",
       "      <td>...</td>\n",
       "    </tr>\n",
       "    <tr>\n",
       "      <th>243</th>\n",
       "      <td>2006-11-01</td>\n",
       "      <td>0.0</td>\n",
       "      <td>0.0</td>\n",
       "      <td>0.0</td>\n",
       "      <td>0.0</td>\n",
       "      <td>197.2492</td>\n",
       "    </tr>\n",
       "    <tr>\n",
       "      <th>244</th>\n",
       "      <td>2006-11-09</td>\n",
       "      <td>0.0</td>\n",
       "      <td>0.0</td>\n",
       "      <td>0.0</td>\n",
       "      <td>0.0</td>\n",
       "      <td>198.0447</td>\n",
       "    </tr>\n",
       "    <tr>\n",
       "      <th>245</th>\n",
       "      <td>2006-11-11</td>\n",
       "      <td>0.0</td>\n",
       "      <td>0.0</td>\n",
       "      <td>0.0</td>\n",
       "      <td>0.0</td>\n",
       "      <td>198.0919</td>\n",
       "    </tr>\n",
       "    <tr>\n",
       "      <th>246</th>\n",
       "      <td>2006-11-17</td>\n",
       "      <td>0.0</td>\n",
       "      <td>0.0</td>\n",
       "      <td>0.0</td>\n",
       "      <td>0.0</td>\n",
       "      <td>197.8105</td>\n",
       "    </tr>\n",
       "    <tr>\n",
       "      <th>247</th>\n",
       "      <td>2006-12-01</td>\n",
       "      <td>0.0</td>\n",
       "      <td>0.0</td>\n",
       "      <td>0.0</td>\n",
       "      <td>0.0</td>\n",
       "      <td>197.3844</td>\n",
       "    </tr>\n",
       "  </tbody>\n",
       "</table>\n",
       "<p>248 rows × 6 columns</p>\n",
       "</div>"
      ],
      "text/plain": [
       "          DATE  WWPR  WOPR  WGPR  WWIR      WBHP\n",
       "0   1997-11-06   0.0   0.0   0.0   0.0    0.0000\n",
       "1   1997-11-14   0.0   0.0   0.0   0.0    0.0000\n",
       "2   1997-12-01   0.0   0.0   0.0   0.0    0.0000\n",
       "3   1997-12-17   0.0   0.0   0.0   0.0    0.0000\n",
       "4   1998-01-01   0.0   0.0   0.0   0.0    0.0000\n",
       "..         ...   ...   ...   ...   ...       ...\n",
       "243 2006-11-01   0.0   0.0   0.0   0.0  197.2492\n",
       "244 2006-11-09   0.0   0.0   0.0   0.0  198.0447\n",
       "245 2006-11-11   0.0   0.0   0.0   0.0  198.0919\n",
       "246 2006-11-17   0.0   0.0   0.0   0.0  197.8105\n",
       "247 2006-12-01   0.0   0.0   0.0   0.0  197.3844\n",
       "\n",
       "[248 rows x 6 columns]"
      ]
     },
     "execution_count": 12,
     "metadata": {},
     "output_type": "execute_result"
    }
   ],
   "source": [
    "full_field.wells['D-3AH'].results"
   ]
  },
  {
   "cell_type": "markdown",
   "id": "593f0424",
   "metadata": {},
   "source": [
    "Done!"
   ]
  }
 ],
 "metadata": {
  "kernelspec": {
   "display_name": "Python 3 (ipykernel)",
   "language": "python",
   "name": "python3"
  },
  "language_info": {
   "codemirror_mode": {
    "name": "ipython",
    "version": 3
   },
   "file_extension": ".py",
   "mimetype": "text/x-python",
   "name": "python",
   "nbconvert_exporter": "python",
   "pygments_lexer": "ipython3",
   "version": "3.11.0"
  }
 },
 "nbformat": 4,
 "nbformat_minor": 5
}
