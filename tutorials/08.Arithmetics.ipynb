{
 "cells": [
  {
   "cell_type": "markdown",
   "metadata": {},
   "source": [
    "# Arithmetics\n",
    "\n",
    "Some properties of a dynamic reservoir may not be explicitly defined, but can be derived from other properties. This can be achieved by using specific keywords in the Eclipse E100 and E300 syntax. These keywords can also modify property values within a specific region defined by a `box`.\n",
    "\n",
    "`Deepfield` supports the following list of arithmetics keywords:\n",
    "\n",
    "- `EQUALS`: set a grid property to a constant value;\n",
    "- `ADD`: add a constant to a grid property;\n",
    "- `MULTIPLY`: nultiply a grid property by a constant;\n",
    "- `COPY`: copy data from one property array to another.\n"
   ]
  },
  {
   "cell_type": "markdown",
   "metadata": {},
   "source": [
    "Required imports:"
   ]
  },
  {
   "cell_type": "code",
   "execution_count": 1,
   "metadata": {},
   "outputs": [],
   "source": [
    "import sys\n",
    "sys.path.append('..')\n",
    "from deepfield import Field\n",
    "import matplotlib.pyplot as plt"
   ]
  },
  {
   "cell_type": "markdown",
   "metadata": {},
   "source": [
    "Consider the simple model given in `/tests/data/arithmetics_test_model/`, in which grid properties are defined using the arithmetics keywords. Let's take a look at a fragment of this model:"
   ]
  },
  {
   "cell_type": "code",
   "execution_count": 2,
   "metadata": {},
   "outputs": [
    {
     "name": "stdout",
     "output_type": "stream",
     "text": [
      "PORO\n",
      "    100*0.2 /\n",
      "\n",
      "COPY\n",
      "   PORO PERMX /\n",
      "/\n",
      "MULTIPLY\n",
      "    PERMX 500 1 10 1 10 1 1  /\n",
      "/\n",
      "COPY\n",
      "    PERMX PERMY /\n",
      "    PERMX PERMZ /\n",
      "/\n",
      "MULTIPLY\n",
      "    PERMZ 0.1 1 10 1 10 1 1  /\n",
      "/\n",
      "\n",
      "ADD\n",
      "    PERMY   5   4 6 4 6 1 1 /\n",
      "/\n",
      "\n",
      "\n"
     ]
    }
   ],
   "source": [
    "with open('../deepfield/tests/data/arithmetics_test_model/test_model.data') as f:\n",
    "    t = f.readlines()\n",
    "    print(''.join(t[42:63]))"
   ]
  },
  {
   "cell_type": "markdown",
   "metadata": {},
   "source": [
    "Note that `PERMX`, `PERMY`, `PERMZ` are not defined explicitly but are set using arithmetics operations. Let's load the model to see how they will be processed:"
   ]
  },
  {
   "cell_type": "code",
   "execution_count": 3,
   "metadata": {},
   "outputs": [
    {
     "name": "stdout",
     "output_type": "stream",
     "text": [
      "INFO:Field:Using default config.\n",
      "WARNING:Field:RESULTS folder was not found in model directory.\n",
      "INFO:Field:Start reading test_model.data\n",
      "INFO:Field:[test_model.data:3] Loading TITLE\n",
      "INFO:Field:[test_model.data:9] Loading START\n",
      "INFO:Field:[test_model.data:13] Loading METRIC\n",
      "INFO:Field:[test_model.data:14] Loading OIL\n",
      "INFO:Field:[test_model.data:15] Loading WATER\n",
      "INFO:Field:[test_model.data:17] Loading DIMENS\n",
      "INFO:Field:[test_model.data:30] Loading DX\n",
      "INFO:Field:[test_model.data:33] Loading DY\n",
      "INFO:Field:[test_model.data:37] Loading DZ\n",
      "INFO:Field:[test_model.data:40] Loading TOPS\n",
      "INFO:Field:[test_model.data:43] Loading PORO\n",
      "INFO:Field:[test_model.data:46] Loading COPY\n",
      "INFO:Field:Copy rock:PORO to rock:PERMX\n",
      "INFO:Field:[test_model.data:49] Loading MULTIPLY\n",
      "INFO:Field:Multiply rock:PERMX by 500.0 in box [0, 10, 0, 10, 0, 1]\n",
      "INFO:Field:[test_model.data:52] Loading COPY\n",
      "INFO:Field:Copy rock:PERMX to rock:PERMY\n",
      "INFO:Field:Copy rock:PERMX to rock:PERMZ\n",
      "INFO:Field:[test_model.data:56] Loading MULTIPLY\n",
      "INFO:Field:Multiply rock:PERMZ by 0.1 in box [0, 10, 0, 10, 0, 1]\n",
      "INFO:Field:[test_model.data:60] Loading ADD\n",
      "INFO:Field:ADD 5.0 to rock:PERMY in box [3, 6, 3, 6, 0, 1]\n",
      "INFO:Field:[test_model.data:68] Loading DENSITY\n",
      "INFO:Field:[test_model.data:70] Loading PVCDO\n",
      "INFO:Field:[test_model.data:74] Loading PVTW\n",
      "INFO:Field:[test_model.data:77] Loading ROCK\n",
      "INFO:Field:[test_model.data:80] Loading SWOF\n",
      "INFO:Field:[test_model.data:106] Loading WELSPECS\n",
      "INFO:Field:[test_model.data:109] Loading COMPDAT\n",
      "INFO:Field:[test_model.data:112] Loading WCONPROD\n",
      "INFO:Field:Finish reading test_model.data\n",
      "WARNING:Field:RESULTS folder was not found in model directory.\n",
      "WARNING:Field:test_model.RSM file was not found.\n",
      "INFO:Field:===== Field summary =====\n",
      "INFO:Field:GRID attributes: MAPAXES, DIMENS, DX, DY, DZ, TOPS, ACTNUM\n",
      "INFO:Field:ROCK attributes: PORO, PERMX, PERMY, PERMZ\n",
      "INFO:Field:STATES attributes: \n",
      "INFO:Field:TABLES attributes: DENSITY, PVCDO, PVTW, ROCK, SWOF\n",
      "INFO:Field:WELLS attributes: COMPDAT, WELSPECS, WCONPROD\n",
      "INFO:Field:FAULTS attributes: \n",
      "INFO:Field:AQUIFERS attributes: \n",
      "INFO:Field:=========================\n"
     ]
    }
   ],
   "source": [
    "model = Field('../deepfield/tests/data/arithmetics_test_model/test_model.data').load()"
   ]
  },
  {
   "cell_type": "markdown",
   "metadata": {},
   "source": [
    "Check loaded attributes:"
   ]
  },
  {
   "cell_type": "code",
   "execution_count": 4,
   "metadata": {},
   "outputs": [
    {
     "name": "stdout",
     "output_type": "stream",
     "text": [
      "PERMX shape: (10, 10, 1)\n",
      "PERMY shape: (10, 10, 1)\n",
      "PERMZ shape: (10, 10, 1)\n"
     ]
    }
   ],
   "source": [
    "print(f'PERMX shape: {model.rock.permx.shape}')\n",
    "print(f'PERMY shape: {model.rock.permx.shape}')\n",
    "print(f'PERMZ shape: {model.rock.permx.shape}')"
   ]
  },
  {
   "cell_type": "markdown",
   "metadata": {},
   "source": [
    "Consider the `PERMY`. By definition, it is a copy of `PERMX` modified by the `ADD` operation:"
   ]
  },
  {
   "cell_type": "code",
   "execution_count": 5,
   "metadata": {},
   "outputs": [
    {
     "name": "stdout",
     "output_type": "stream",
     "text": [
      "ADD\n",
      "    PERMY   5   4 6 4 6 1 1 /\n",
      "/\n",
      "\n"
     ]
    }
   ],
   "source": [
    "print(''.join(t[59:62]))"
   ]
  },
  {
   "cell_type": "markdown",
   "metadata": {},
   "source": [
    "Let's compare `PERMX` and `PERMY`:"
   ]
  },
  {
   "cell_type": "code",
   "execution_count": 6,
   "metadata": {},
   "outputs": [
    {
     "data": {
      "image/png": "[encoded data removed]",
      "text/plain": [
       "<Figure size 800x300 with 2 Axes>"
      ]
     },
     "metadata": {},
     "output_type": "display_data"
    }
   ],
   "source": [
    "fig, ax = plt.subplots(1, 2, figsize=(8, 3))\n",
    "ax[0].imshow(model.rock.permx, origin='lower')\n",
    "ax[0].set_title('PERMX')\n",
    "ax[1].imshow(model.rock.permy, origin='lower')\n",
    "ax[1].set_title('PERMY')\n",
    "plt.show()"
   ]
  },
  {
   "cell_type": "markdown",
   "metadata": {},
   "source": [
    "We see that `PERMY` is modified in the region defined by the box [4:6, 4:6, 1:1] (note that the enumeration in ECLIPSE starts with 1 rather than 0 as in python). "
   ]
  },
  {
   "cell_type": "markdown",
   "metadata": {},
   "source": [
    "Done!"
   ]
  }
 ],
 "metadata": {
  "kernelspec": {
   "display_name": "Python 3 (ipykernel)",
   "language": "python",
   "name": "python3"
  },
  "language_info": {
   "codemirror_mode": {
    "name": "ipython",
    "version": 3
   },
   "file_extension": ".py",
   "mimetype": "text/x-python",
   "name": "python",
   "nbconvert_exporter": "python",
   "pygments_lexer": "ipython3",
   "version": "3.11.0"
  }
 },
 "nbformat": 4,
 "nbformat_minor": 4
}
