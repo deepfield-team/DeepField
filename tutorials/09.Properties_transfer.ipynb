{
 "cells": [
  {
   "cell_type": "markdown",
   "metadata": {},
   "source": [
    "# Properties transfer\n",
    "\n",
    "A tutorial on kNN model application for properties transfer.\n",
    "\n",
    "In this tutorial we demonstrate property transfer between two arbitrary grids. For special case of property transfer that is upscaling see [Grid](02.Grid.ipynb) and [Rock_and_States](03.Rock_and_States.ipynb) tutorials."
   ]
  },
  {
   "cell_type": "markdown",
   "metadata": {},
   "source": [
    "Required imports:"
   ]
  },
  {
   "cell_type": "code",
   "execution_count": 1,
   "metadata": {},
   "outputs": [],
   "source": [
    "import sys\n",
    "import numpy as np\n",
    "import matplotlib.pyplot as plt\n",
    "sys.path.append('..')\n",
    "\n",
    "from deepfield import Field, PropertiesTransfer"
   ]
  },
  {
   "cell_type": "markdown",
   "metadata": {},
   "source": [
    "Load some model:"
   ]
  },
  {
   "cell_type": "code",
   "execution_count": 2,
   "metadata": {},
   "outputs": [
    {
     "name": "stdout",
     "output_type": "stream",
     "text": [
      "INFO:Field:Using default config.\n",
      "...\n",
      "INFO:Field:===== Field summary =====\n",
      "INFO:Field:GRID attributes: MAPAXES, DIMENS, ZCORN, COORD, ACTNUM\n",
      "INFO:Field:ROCK attributes: PORO, PERMX, PERMY, PERMZ\n",
      "INFO:Field:STATES attributes: PRESSURE, RS, SGAS, SOIL, SWAT\n",
      "INFO:Field:TABLES attributes: PVTO, ROCK, PVTW, DENSITY, SWOF, SGOF, PVDG\n",
      "INFO:Field:WELLS attributes: WCONINJE, WELSPECS, WCONPROD, COMPDAT, WFRAC\n",
      "INFO:Field:FAULTS attributes: FAULTS, MULTFLT\n",
      "INFO:Field:AQUIFERS attributes: \n",
      "INFO:Field:=========================\n"
     ]
    }
   ],
   "source": [
    "model = Field('../open_data/norne_simplified/norne_simplified.data').load()"
   ]
  },
  {
   "cell_type": "markdown",
   "metadata": {},
   "source": [
    "Let's make a new grid that will be shifted to some extent from original one:"
   ]
  },
  {
   "cell_type": "code",
   "execution_count": 3,
   "metadata": {},
   "outputs": [],
   "source": [
    "new_grid = model.grid.copy()\n",
    "new_grid.coord = model.grid.coord.astype(float) + 1"
   ]
  },
  {
   "cell_type": "markdown",
   "metadata": {},
   "source": [
    "Compute normalization vector (averaged cell sizes):"
   ]
  },
  {
   "cell_type": "code",
   "execution_count": 4,
   "metadata": {},
   "outputs": [],
   "source": [
    "sizes = abs(np.diff(model.grid.xyz.reshape(-1, 3), axis=0)).mean(axis=0)"
   ]
  },
  {
   "cell_type": "markdown",
   "metadata": {},
   "source": [
    "Fit a model:"
   ]
  },
  {
   "cell_type": "code",
   "execution_count": 5,
   "metadata": {},
   "outputs": [],
   "source": [
    "ptf = PropertiesTransfer().fit(model.grid, new_grid, n_neighbors=6, normalize_vector=sizes)"
   ]
  },
  {
   "cell_type": "markdown",
   "metadata": {},
   "source": [
    "Apply the model to array of rock properties:"
   ]
  },
  {
   "cell_type": "code",
   "execution_count": 6,
   "metadata": {},
   "outputs": [],
   "source": [
    "new_poro = ptf.predict(model.rock.poro)"
   ]
  },
  {
   "cell_type": "markdown",
   "metadata": {},
   "source": [
    "Also we transfer active cells:"
   ]
  },
  {
   "cell_type": "code",
   "execution_count": 7,
   "metadata": {},
   "outputs": [],
   "source": [
    "new_actnum = ptf.predict(model.grid.actnum) > 0.5"
   ]
  },
  {
   "cell_type": "markdown",
   "metadata": {},
   "source": [
    "Compare histograms:"
   ]
  },
  {
   "cell_type": "code",
   "execution_count": 8,
   "metadata": {},
   "outputs": [
    {
     "data": {
      "image/png": "[encoded data removed]",
      "text/plain": [
       "<Figure size 640x480 with 1 Axes>"
      ]
     },
     "metadata": {},
     "output_type": "display_data"
    }
   ],
   "source": [
    "plt.hist(model.rock.poro[model.grid.actnum].ravel(),\n",
    "         range=(0.01, 0.4), bins=20, label='Original')\n",
    "plt.hist(new_poro[new_actnum].ravel(),\n",
    "         range=(0.01, 0.4), bins=20, alpha=0.5, label='Transferred')\n",
    "plt.legend()\n",
    "plt.show()"
   ]
  },
  {
   "cell_type": "markdown",
   "metadata": {},
   "source": [
    "Dump the model to recover it later:"
   ]
  },
  {
   "cell_type": "code",
   "execution_count": 9,
   "metadata": {},
   "outputs": [],
   "source": [
    "ptf.dump('ptf_model')"
   ]
  },
  {
   "cell_type": "markdown",
   "metadata": {},
   "source": [
    "Load the saved model:"
   ]
  },
  {
   "cell_type": "code",
   "execution_count": 10,
   "metadata": {},
   "outputs": [],
   "source": [
    "ptf = PropertiesTransfer().load('ptf_model.npz')"
   ]
  },
  {
   "cell_type": "markdown",
   "metadata": {},
   "source": [
    "and continue to use it"
   ]
  },
  {
   "cell_type": "code",
   "execution_count": 11,
   "metadata": {},
   "outputs": [
    {
     "data": {
      "text/plain": [
       "(46, 112, 22)"
      ]
     },
     "execution_count": 11,
     "metadata": {},
     "output_type": "execute_result"
    }
   ],
   "source": [
    "ptf.predict(model.rock.poro).shape"
   ]
  },
  {
   "cell_type": "markdown",
   "metadata": {},
   "source": [
    "It remains to note that the same model also work for `State` properties.\n",
    "\n",
    "Done! "
   ]
  }
 ],
 "metadata": {
  "kernelspec": {
   "display_name": "Python 3 (ipykernel)",
   "language": "python",
   "name": "python3"
  },
  "language_info": {
   "codemirror_mode": {
    "name": "ipython",
    "version": 3
   },
   "file_extension": ".py",
   "mimetype": "text/x-python",
   "name": "python",
   "nbconvert_exporter": "python",
   "pygments_lexer": "ipython3",
   "version": "3.11.0"
  }
 },
 "nbformat": 4,
 "nbformat_minor": 4
}
