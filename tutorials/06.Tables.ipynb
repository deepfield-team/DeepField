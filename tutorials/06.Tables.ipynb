{
 "cells": [
  {
   "cell_type": "markdown",
   "metadata": {},
   "source": [
    "# Tables\n",
    "\n",
    "A tutorial on `Tables` component that contains PVT properties of the geological model.\n",
    "\n",
    "### Content\n",
    "* [Basic properties](#Basic-properties)\n",
    "* [PVDG/PVDO](#PVDG/PVDO)\n",
    "* [PVTW](#PVTW)\n",
    "* [SWOF/SGOF](#SWOF/SGOF)\n",
    "* [PVTO](#PVTO)\n",
    "* [PVDG](#PVDG)"
   ]
  },
  {
   "cell_type": "markdown",
   "metadata": {},
   "source": [
    "### Basic properties"
   ]
  },
  {
   "cell_type": "markdown",
   "metadata": {},
   "source": [
    "Raquired imports"
   ]
  },
  {
   "cell_type": "code",
   "execution_count": 1,
   "metadata": {},
   "outputs": [],
   "source": [
    "import sys\n",
    "import numpy as np\n",
    "\n",
    "sys.path.append('..')\n",
    "\n",
    "from deepfield import Field"
   ]
  },
  {
   "cell_type": "markdown",
   "metadata": {},
   "source": [
    "For demonstration, we will use the `Norne` reservoir model that should be downloaded separately, for example, from the `opm-data` repository https://github.com/OPM/opm-data/tree/master/norne. Once the source files of the reservoir model are obtained, load the model data:"
   ]
  },
  {
   "cell_type": "code",
   "execution_count": 2,
   "metadata": {
    "scrolled": true
   },
   "outputs": [
    {
     "name": "stdout",
     "output_type": "stream",
     "text": [
      "INFO:Field:Using default config.\n",
      "...\n",
      "INFO:Field:===== Field summary =====\n",
      "INFO:Field:GRID attributes: MAPAXES, DIMENS, COORD, ZCORN, ACTNUM, MINPV\n",
      "INFO:Field:ROCK attributes: PORO, NTG, PERMX, PERMY, PERMZ, MULTZ, SWATINIT, SWL, SWCR, SGU, SGL, SGCR, SOWCR, SOGCR, SWU, ISWCR, ISGU, ISWL, ISWU, ISGL, ISOGCR, ISOWCR\n",
      "INFO:Field:STATES attributes: \n",
      "INFO:Field:TABLES attributes: PVTO, ROCK, PVTW, DENSITY, SWOF, SGOF, PVDG\n",
      "INFO:Field:WELLS attributes: COMPDAT, WELSPECS, WCONINJE, WCONPROD\n",
      "INFO:Field:FAULTS attributes: FAULTS, MULTFLT\n",
      "INFO:Field:AQUIFERS attributes: \n",
      "INFO:Field:=========================\n"
     ]
    }
   ],
   "source": [
    "model = Field(path='../open_data/norne/NORNE_ATW2013.DATA').load()"
   ]
  },
  {
   "cell_type": "markdown",
   "metadata": {},
   "source": [
    "List of tables the model contains"
   ]
  },
  {
   "cell_type": "code",
   "execution_count": 3,
   "metadata": {},
   "outputs": [
    {
     "data": {
      "text/plain": [
       "('PVTO', 'ROCK', 'PVTW', 'DENSITY', 'SWOF', 'SGOF', 'PVDG')"
      ]
     },
     "execution_count": 3,
     "metadata": {},
     "output_type": "execute_result"
    }
   ],
   "source": [
    "model.tables.attributes"
   ]
  },
  {
   "cell_type": "markdown",
   "metadata": {},
   "source": [
    "Each table is represented by a pandas DataFrame, for example:"
   ]
  },
  {
   "cell_type": "code",
   "execution_count": 4,
   "metadata": {},
   "outputs": [
    {
     "data": {
      "text/html": [
       "<div>\n",
       "<style scoped>\n",
       "    .dataframe tbody tr th:only-of-type {\n",
       "        vertical-align: middle;\n",
       "    }\n",
       "\n",
       "    .dataframe tbody tr th {\n",
       "        vertical-align: top;\n",
       "    }\n",
       "\n",
       "    .dataframe thead th {\n",
       "        text-align: right;\n",
       "    }\n",
       "</style>\n",
       "<table border=\"1\" class=\"dataframe\">\n",
       "  <thead>\n",
       "    <tr style=\"text-align: right;\">\n",
       "      <th></th>\n",
       "      <th></th>\n",
       "      <th>FVF</th>\n",
       "      <th>VISC</th>\n",
       "    </tr>\n",
       "    <tr>\n",
       "      <th>RS</th>\n",
       "      <th>PRESSURE</th>\n",
       "      <th></th>\n",
       "      <th></th>\n",
       "    </tr>\n",
       "  </thead>\n",
       "  <tbody>\n",
       "    <tr>\n",
       "      <th rowspan=\"5\" valign=\"top\">20.59</th>\n",
       "      <th>50.0</th>\n",
       "      <td>1.10615</td>\n",
       "      <td>1.180</td>\n",
       "    </tr>\n",
       "    <tr>\n",
       "      <th>75.0</th>\n",
       "      <td>1.10164</td>\n",
       "      <td>1.247</td>\n",
       "    </tr>\n",
       "    <tr>\n",
       "      <th>100.0</th>\n",
       "      <td>1.09744</td>\n",
       "      <td>1.315</td>\n",
       "    </tr>\n",
       "    <tr>\n",
       "      <th>125.0</th>\n",
       "      <td>1.09351</td>\n",
       "      <td>1.384</td>\n",
       "    </tr>\n",
       "    <tr>\n",
       "      <th>150.0</th>\n",
       "      <td>1.08984</td>\n",
       "      <td>1.453</td>\n",
       "    </tr>\n",
       "  </tbody>\n",
       "</table>\n",
       "</div>"
      ],
      "text/plain": [
       "                    FVF   VISC\n",
       "RS    PRESSURE                \n",
       "20.59 50.0      1.10615  1.180\n",
       "      75.0      1.10164  1.247\n",
       "      100.0     1.09744  1.315\n",
       "      125.0     1.09351  1.384\n",
       "      150.0     1.08984  1.453"
      ]
     },
     "execution_count": 4,
     "metadata": {},
     "output_type": "execute_result"
    }
   ],
   "source": [
    "model.tables.pvto.head()"
   ]
  },
  {
   "cell_type": "markdown",
   "metadata": {},
   "source": [
    "... but in contrast to a static table, one can query interpolated values for arbitrary point. Each table has a special interpolation method based on tNavigator/Eclipse defaults."
   ]
  },
  {
   "cell_type": "markdown",
   "metadata": {},
   "source": [
    "### PVDG/PVDO"
   ]
  },
  {
   "cell_type": "markdown",
   "metadata": {},
   "source": [
    "PVDG-table is used to set properties of dry gas (without dissolved oil).\n",
    "Columns of the table are reference pressure (independant variable), formation volume factor and viscosity of gas (dependant ones)"
   ]
  },
  {
   "cell_type": "code",
   "execution_count": 5,
   "metadata": {},
   "outputs": [
    {
     "data": {
      "text/html": [
       "<div>\n",
       "<style scoped>\n",
       "    .dataframe tbody tr th:only-of-type {\n",
       "        vertical-align: middle;\n",
       "    }\n",
       "\n",
       "    .dataframe tbody tr th {\n",
       "        vertical-align: top;\n",
       "    }\n",
       "\n",
       "    .dataframe thead th {\n",
       "        text-align: right;\n",
       "    }\n",
       "</style>\n",
       "<table border=\"1\" class=\"dataframe\">\n",
       "  <thead>\n",
       "    <tr style=\"text-align: right;\">\n",
       "      <th></th>\n",
       "      <th>FVF</th>\n",
       "      <th>VISC</th>\n",
       "    </tr>\n",
       "    <tr>\n",
       "      <th>PRESSURE</th>\n",
       "      <th></th>\n",
       "      <th></th>\n",
       "    </tr>\n",
       "  </thead>\n",
       "  <tbody>\n",
       "    <tr>\n",
       "      <th>50.0</th>\n",
       "      <td>0.024958</td>\n",
       "      <td>0.01440</td>\n",
       "    </tr>\n",
       "    <tr>\n",
       "      <th>70.0</th>\n",
       "      <td>0.017643</td>\n",
       "      <td>0.01490</td>\n",
       "    </tr>\n",
       "    <tr>\n",
       "      <th>90.0</th>\n",
       "      <td>0.013615</td>\n",
       "      <td>0.01544</td>\n",
       "    </tr>\n",
       "    <tr>\n",
       "      <th>110.0</th>\n",
       "      <td>0.011081</td>\n",
       "      <td>0.01605</td>\n",
       "    </tr>\n",
       "    <tr>\n",
       "      <th>130.0</th>\n",
       "      <td>0.009352</td>\n",
       "      <td>0.01671</td>\n",
       "    </tr>\n",
       "  </tbody>\n",
       "</table>\n",
       "</div>"
      ],
      "text/plain": [
       "               FVF     VISC\n",
       "PRESSURE                   \n",
       "50.0      0.024958  0.01440\n",
       "70.0      0.017643  0.01490\n",
       "90.0      0.013615  0.01544\n",
       "110.0     0.011081  0.01605\n",
       "130.0     0.009352  0.01671"
      ]
     },
     "execution_count": 5,
     "metadata": {},
     "output_type": "execute_result"
    }
   ],
   "source": [
    "model.tables.pvdg.head()"
   ]
  },
  {
   "cell_type": "markdown",
   "metadata": {},
   "source": [
    "For dependent quantities, linear interpolation of the quantities inverse of $ B_g $ and $ B_g\\mu_g $ between the given points is performed. Call-method for the table returns interpolated values ($ B_g $ and $ \\mu_g $) for the given set of pressure values. Same is relevant for PVDO-table that describes PVT properties of dissolved oil. Below we query some interpolated values from the table:"
   ]
  },
  {
   "cell_type": "code",
   "execution_count": 6,
   "metadata": {},
   "outputs": [
    {
     "data": {
      "text/plain": [
       "array([[0.03148504, 0.01398137],\n",
       "       [0.01536947, 0.01520006],\n",
       "       [0.012218  , 0.01577044],\n",
       "       [0.01014335, 0.01640131]])"
      ]
     },
     "execution_count": 6,
     "metadata": {},
     "output_type": "execute_result"
    }
   ],
   "source": [
    "points = np.array([40, 80, 100, 120])\n",
    "\n",
    "model.tables.pvdg(points)"
   ]
  },
  {
   "cell_type": "markdown",
   "metadata": {},
   "source": [
    "One can use `plot` to visualize interpolated table data:"
   ]
  },
  {
   "cell_type": "code",
   "execution_count": 7,
   "metadata": {},
   "outputs": [
    {
     "data": {
      "image/png": "[encoded data removed]",
      "text/plain": [
       "<Figure size 640x480 with 2 Axes>"
      ]
     },
     "metadata": {},
     "output_type": "display_data"
    }
   ],
   "source": [
    "model.tables.pvdg.plot()"
   ]
  },
  {
   "cell_type": "markdown",
   "metadata": {},
   "source": [
    "### PVTW"
   ]
  },
  {
   "cell_type": "markdown",
   "metadata": {},
   "source": [
    "PVTW-table sets water properties by a single line for each region.\n",
    "Columns are reference pressure (independant variable), formation volume factor, water compressibility factor, viscosity and derivative of viscosity of water which is also called viscosibility"
   ]
  },
  {
   "cell_type": "code",
   "execution_count": 8,
   "metadata": {},
   "outputs": [
    {
     "data": {
      "text/html": [
       "<div>\n",
       "<style scoped>\n",
       "    .dataframe tbody tr th:only-of-type {\n",
       "        vertical-align: middle;\n",
       "    }\n",
       "\n",
       "    .dataframe tbody tr th {\n",
       "        vertical-align: top;\n",
       "    }\n",
       "\n",
       "    .dataframe thead th {\n",
       "        text-align: right;\n",
       "    }\n",
       "</style>\n",
       "<table border=\"1\" class=\"dataframe\">\n",
       "  <thead>\n",
       "    <tr style=\"text-align: right;\">\n",
       "      <th></th>\n",
       "      <th>FVF</th>\n",
       "      <th>COMPR</th>\n",
       "      <th>VISC</th>\n",
       "      <th>VISCOSIBILITY</th>\n",
       "    </tr>\n",
       "    <tr>\n",
       "      <th>PRESSURE</th>\n",
       "      <th></th>\n",
       "      <th></th>\n",
       "      <th></th>\n",
       "      <th></th>\n",
       "    </tr>\n",
       "  </thead>\n",
       "  <tbody>\n",
       "    <tr>\n",
       "      <th>277.0</th>\n",
       "      <td>1.038</td>\n",
       "      <td>0.000047</td>\n",
       "      <td>0.318</td>\n",
       "      <td>0.0</td>\n",
       "    </tr>\n",
       "  </tbody>\n",
       "</table>\n",
       "</div>"
      ],
      "text/plain": [
       "            FVF     COMPR   VISC  VISCOSIBILITY\n",
       "PRESSURE                                       \n",
       "277.0     1.038  0.000047  0.318            0.0"
      ]
     },
     "execution_count": 8,
     "metadata": {},
     "output_type": "execute_result"
    }
   ],
   "source": [
    "model.tables.pvtw"
   ]
  },
  {
   "cell_type": "markdown",
   "metadata": {},
   "source": [
    "For calculating formation volume factor and viscosity of water at different pressure values, the following equations is used:\n",
    "$$ $$\n",
    "$$ B_W(p_W) = \\frac{B_W(p_{ref})}{1+c_W(p_W-p_{ref}) + \\frac{1}{2}c^2_{W}(p_W-p_{ref})^{2}} $$\n",
    "\n",
    "$$ \\mu_W(p_W) = \\mu_{W_{ref}} \\exp{\\frac{1}{\\mu_{W_{ref}}} \\frac{\\partial \\mu_W}{\\partial P} (p_W - p_{ref})} $$"
   ]
  },
  {
   "cell_type": "markdown",
   "metadata": {},
   "source": [
    "### SWOF/SGOF"
   ]
  },
  {
   "cell_type": "markdown",
   "metadata": {},
   "source": [
    "SWOF and SGOF tables are a set of points to plot relative permability curves and graphs of oil-water and gas-water capillary pressure.\n",
    "Corresponding independent variables by which interpolation is performed are water and gas saturation respectively.\n",
    "Linear interpolation is appled to these tables."
   ]
  },
  {
   "cell_type": "code",
   "execution_count": 9,
   "metadata": {},
   "outputs": [
    {
     "data": {
      "text/html": [
       "<div>\n",
       "<style scoped>\n",
       "    .dataframe tbody tr th:only-of-type {\n",
       "        vertical-align: middle;\n",
       "    }\n",
       "\n",
       "    .dataframe tbody tr th {\n",
       "        vertical-align: top;\n",
       "    }\n",
       "\n",
       "    .dataframe thead th {\n",
       "        text-align: right;\n",
       "    }\n",
       "</style>\n",
       "<table border=\"1\" class=\"dataframe\">\n",
       "  <thead>\n",
       "    <tr style=\"text-align: right;\">\n",
       "      <th></th>\n",
       "      <th>KRWO</th>\n",
       "      <th>KROW</th>\n",
       "      <th>POW</th>\n",
       "    </tr>\n",
       "    <tr>\n",
       "      <th>SW</th>\n",
       "      <th></th>\n",
       "      <th></th>\n",
       "      <th></th>\n",
       "    </tr>\n",
       "  </thead>\n",
       "  <tbody>\n",
       "    <tr>\n",
       "      <th>0.0000</th>\n",
       "      <td>0.00000</td>\n",
       "      <td>1.00000</td>\n",
       "      <td>3.75633</td>\n",
       "    </tr>\n",
       "    <tr>\n",
       "      <th>0.0001</th>\n",
       "      <td>0.00000</td>\n",
       "      <td>0.99900</td>\n",
       "      <td>3.75632</td>\n",
       "    </tr>\n",
       "    <tr>\n",
       "      <th>0.0500</th>\n",
       "      <td>0.00086</td>\n",
       "      <td>0.84782</td>\n",
       "      <td>1.86981</td>\n",
       "    </tr>\n",
       "    <tr>\n",
       "      <th>0.1000</th>\n",
       "      <td>0.00263</td>\n",
       "      <td>0.69746</td>\n",
       "      <td>1.23731</td>\n",
       "    </tr>\n",
       "    <tr>\n",
       "      <th>0.1500</th>\n",
       "      <td>0.00524</td>\n",
       "      <td>0.55717</td>\n",
       "      <td>0.91821</td>\n",
       "    </tr>\n",
       "  </tbody>\n",
       "</table>\n",
       "</div>"
      ],
      "text/plain": [
       "           KRWO     KROW      POW\n",
       "SW                               \n",
       "0.0000  0.00000  1.00000  3.75633\n",
       "0.0001  0.00000  0.99900  3.75632\n",
       "0.0500  0.00086  0.84782  1.86981\n",
       "0.1000  0.00263  0.69746  1.23731\n",
       "0.1500  0.00524  0.55717  0.91821"
      ]
     },
     "execution_count": 9,
     "metadata": {},
     "output_type": "execute_result"
    }
   ],
   "source": [
    "model.tables.swof.head()"
   ]
  },
  {
   "cell_type": "markdown",
   "metadata": {},
   "source": [
    "Query some values:"
   ]
  },
  {
   "cell_type": "code",
   "execution_count": 10,
   "metadata": {},
   "outputs": [
    {
     "data": {
      "text/plain": [
       "array([[2.63000e-03, 6.97460e-01, 1.23731e+00],\n",
       "       [8.77000e-03, 4.32860e-01, 7.24510e-01],\n",
       "       [3.60800e-02, 1.22370e-01, 3.66910e-01],\n",
       "       [1.03940e-01, 2.19900e-02, 2.13510e-01],\n",
       "       [4.92206e-01, 2.00000e-06, 4.75860e-02]])"
      ]
     },
     "execution_count": 10,
     "metadata": {},
     "output_type": "execute_result"
    }
   ],
   "source": [
    "model.tables.swof([0.1, 0.2, 0.4, 0.6, 0.99])"
   ]
  },
  {
   "cell_type": "markdown",
   "metadata": {},
   "source": [
    "Plot the table:"
   ]
  },
  {
   "cell_type": "code",
   "execution_count": 11,
   "metadata": {},
   "outputs": [
    {
     "data": {
      "image/png": "[encoded data removed]",
      "text/plain": [
       "<Figure size 640x480 with 3 Axes>"
      ]
     },
     "metadata": {},
     "output_type": "display_data"
    }
   ],
   "source": [
    "model.tables.swof.plot()"
   ]
  },
  {
   "cell_type": "markdown",
   "metadata": {},
   "source": [
    "### PVTO"
   ]
  },
  {
   "cell_type": "markdown",
   "metadata": {},
   "source": [
    "PVTO is used to set PVT properties for oil with dissolved gas.\n",
    "The dataset defines the PVT properties for a given value of gas solubility, Rs. Some sets may contain data about properties of undersaturated oil for a given gas solubility. This additional data must be recorded for maximum values of Rs in each table. For the part of the table describing the unsaturated oil, gas solubility quantity is not duplicated / indicated."
   ]
  },
  {
   "cell_type": "code",
   "execution_count": 12,
   "metadata": {},
   "outputs": [
    {
     "data": {
      "text/html": [
       "<div>\n",
       "<style scoped>\n",
       "    .dataframe tbody tr th:only-of-type {\n",
       "        vertical-align: middle;\n",
       "    }\n",
       "\n",
       "    .dataframe tbody tr th {\n",
       "        vertical-align: top;\n",
       "    }\n",
       "\n",
       "    .dataframe thead th {\n",
       "        text-align: right;\n",
       "    }\n",
       "</style>\n",
       "<table border=\"1\" class=\"dataframe\">\n",
       "  <thead>\n",
       "    <tr style=\"text-align: right;\">\n",
       "      <th></th>\n",
       "      <th></th>\n",
       "      <th>FVF</th>\n",
       "      <th>VISC</th>\n",
       "    </tr>\n",
       "    <tr>\n",
       "      <th>RS</th>\n",
       "      <th>PRESSURE</th>\n",
       "      <th></th>\n",
       "      <th></th>\n",
       "    </tr>\n",
       "  </thead>\n",
       "  <tbody>\n",
       "    <tr>\n",
       "      <th rowspan=\"5\" valign=\"top\">20.59</th>\n",
       "      <th>50.0</th>\n",
       "      <td>1.10615</td>\n",
       "      <td>1.180</td>\n",
       "    </tr>\n",
       "    <tr>\n",
       "      <th>75.0</th>\n",
       "      <td>1.10164</td>\n",
       "      <td>1.247</td>\n",
       "    </tr>\n",
       "    <tr>\n",
       "      <th>100.0</th>\n",
       "      <td>1.09744</td>\n",
       "      <td>1.315</td>\n",
       "    </tr>\n",
       "    <tr>\n",
       "      <th>125.0</th>\n",
       "      <td>1.09351</td>\n",
       "      <td>1.384</td>\n",
       "    </tr>\n",
       "    <tr>\n",
       "      <th>150.0</th>\n",
       "      <td>1.08984</td>\n",
       "      <td>1.453</td>\n",
       "    </tr>\n",
       "  </tbody>\n",
       "</table>\n",
       "</div>"
      ],
      "text/plain": [
       "                    FVF   VISC\n",
       "RS    PRESSURE                \n",
       "20.59 50.0      1.10615  1.180\n",
       "      75.0      1.10164  1.247\n",
       "      100.0     1.09744  1.315\n",
       "      125.0     1.09351  1.384\n",
       "      150.0     1.08984  1.453"
      ]
     },
     "execution_count": 12,
     "metadata": {},
     "output_type": "execute_result"
    }
   ],
   "source": [
    "model.tables.pvto.head()"
   ]
  },
  {
   "cell_type": "markdown",
   "metadata": {},
   "source": [
    "Plot the table"
   ]
  },
  {
   "cell_type": "code",
   "execution_count": 13,
   "metadata": {},
   "outputs": [
    {
     "data": {
      "application/vnd.jupyter.widget-view+json": {
       "model_id": "a7c96f0a53104e0e9ae18020c7f76ff2",
       "version_major": 2,
       "version_minor": 0
      },
      "text/plain": [
       "interactive(children=(SelectionSlider(description='RS', options=(20.59, 28.19, 36.01, 44.09, 52.46, 61.13, 70.…"
      ]
     },
     "metadata": {},
     "output_type": "display_data"
    }
   ],
   "source": [
    "model.tables.pvto.plot()"
   ]
  },
  {
   "cell_type": "markdown",
   "metadata": {},
   "source": [
    "### PVDG"
   ]
  },
  {
   "cell_type": "markdown",
   "metadata": {},
   "source": [
    "For a saturated state, there is a one-to-one relationship between bubble point pressure and gas solubility. Current pressure value is equal to bubble point pressure: $ p = p_{bub} $. In this case, formation volume factor and viscosity of the oil are interpolated by Rs. An interpolation technique is defined by PVDG-table (linear interpolation of the quantities inverse of $ B_g $ and $ B_g\\mu_g $).\n",
    "If oil is in an undersaturated state, then for the current Rs value the nearest undersaturated branches are defined and further interpolation between them is performed."
   ]
  },
  {
   "cell_type": "code",
   "execution_count": 14,
   "metadata": {},
   "outputs": [
    {
     "data": {
      "text/html": [
       "<div>\n",
       "<style scoped>\n",
       "    .dataframe tbody tr th:only-of-type {\n",
       "        vertical-align: middle;\n",
       "    }\n",
       "\n",
       "    .dataframe tbody tr th {\n",
       "        vertical-align: top;\n",
       "    }\n",
       "\n",
       "    .dataframe thead th {\n",
       "        text-align: right;\n",
       "    }\n",
       "</style>\n",
       "<table border=\"1\" class=\"dataframe\">\n",
       "  <thead>\n",
       "    <tr style=\"text-align: right;\">\n",
       "      <th></th>\n",
       "      <th>FVF</th>\n",
       "      <th>VISC</th>\n",
       "    </tr>\n",
       "    <tr>\n",
       "      <th>PRESSURE</th>\n",
       "      <th></th>\n",
       "      <th></th>\n",
       "    </tr>\n",
       "  </thead>\n",
       "  <tbody>\n",
       "    <tr>\n",
       "      <th>50.0</th>\n",
       "      <td>0.024958</td>\n",
       "      <td>0.01440</td>\n",
       "    </tr>\n",
       "    <tr>\n",
       "      <th>70.0</th>\n",
       "      <td>0.017643</td>\n",
       "      <td>0.01490</td>\n",
       "    </tr>\n",
       "    <tr>\n",
       "      <th>90.0</th>\n",
       "      <td>0.013615</td>\n",
       "      <td>0.01544</td>\n",
       "    </tr>\n",
       "    <tr>\n",
       "      <th>110.0</th>\n",
       "      <td>0.011081</td>\n",
       "      <td>0.01605</td>\n",
       "    </tr>\n",
       "    <tr>\n",
       "      <th>130.0</th>\n",
       "      <td>0.009352</td>\n",
       "      <td>0.01671</td>\n",
       "    </tr>\n",
       "  </tbody>\n",
       "</table>\n",
       "</div>"
      ],
      "text/plain": [
       "               FVF     VISC\n",
       "PRESSURE                   \n",
       "50.0      0.024958  0.01440\n",
       "70.0      0.017643  0.01490\n",
       "90.0      0.013615  0.01544\n",
       "110.0     0.011081  0.01605\n",
       "130.0     0.009352  0.01671"
      ]
     },
     "execution_count": 14,
     "metadata": {},
     "output_type": "execute_result"
    }
   ],
   "source": [
    "model.tables.pvdg.head()"
   ]
  },
  {
   "cell_type": "markdown",
   "metadata": {},
   "source": [
    "Done!"
   ]
  }
 ],
 "metadata": {
  "kernelspec": {
   "display_name": "Python 3 (ipykernel)",
   "language": "python",
   "name": "python3"
  },
  "language_info": {
   "codemirror_mode": {
    "name": "ipython",
    "version": 3
   },
   "file_extension": ".py",
   "mimetype": "text/x-python",
   "name": "python",
   "nbconvert_exporter": "python",
   "pygments_lexer": "ipython3",
   "version": "3.10.0"
  }
 },
 "nbformat": 4,
 "nbformat_minor": 2
}
