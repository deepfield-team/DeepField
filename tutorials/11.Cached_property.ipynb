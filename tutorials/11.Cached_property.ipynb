{
 "cells": [
  {
   "cell_type": "markdown",
   "metadata": {},
   "source": [
    "# Cached property\n",
    "\n",
    "This tutorial is more technical and explains how to use the `@cached_property` decorator.\n",
    "\n",
    "`@cached_property` decorator can be useful to reduce subsequent computations of a property. It memorizes the value computed at the first time and returns it at the next calls.\n",
    "\n",
    "However, sometimes we may want to modify the return value depending on, for example, the state of our component, while changing or not changing the cache itself. Below we will show how to implement these features.\n",
    "\n",
    "We will define a class `MyComponent` that has states depending on the `flag` value. \n",
    "Also `MyComponent` has three properties: `a`, `b` and `c`. Property `a` does not depend on the state, while `b` and `c` do. A diffence between `b` and `c` is in the `modify_cache` option."
   ]
  },
  {
   "cell_type": "code",
   "execution_count": 1,
   "metadata": {},
   "outputs": [],
   "source": [
    "import sys\n",
    "sys.path.append('..')\n",
    "\n",
    "from deepfield.field.base_component import BaseComponent\n",
    "from deepfield.field.decorators import cached_property\n",
    "\n",
    "class MyComponent(BaseComponent):\n",
    "    def __init__(self, *args, **kwargs):\n",
    "        super().__init__(*args, **kwargs)\n",
    "        self.init_state(flag=0)\n",
    "\n",
    "    @cached_property\n",
    "    def a(self):\n",
    "        print('Long computations of a...')\n",
    "        return 0\n",
    "    \n",
    "    @cached_property(lambda self, x: x + self.state.flag, modify_cache=False)\n",
    "    def b(self):\n",
    "        print('Long computations of b...')\n",
    "        return 0\n",
    "    \n",
    "    @cached_property(lambda self, x: x + self.state.flag, modify_cache=True)\n",
    "    def c(self):\n",
    "        print('Long computations of c...')\n",
    "        return 0"
   ]
  },
  {
   "cell_type": "markdown",
   "metadata": {},
   "source": [
    "For the property `a` long computations are executed only once, while the property is called twice:"
   ]
  },
  {
   "cell_type": "code",
   "execution_count": 2,
   "metadata": {},
   "outputs": [
    {
     "ename": "AttributeError",
     "evalue": "MyComponent has no attribute init_state",
     "output_type": "error",
     "traceback": [
      "\u001b[1;31m---------------------------------------------------------------------------\u001b[0m",
      "\u001b[1;31mAttributeError\u001b[0m                            Traceback (most recent call last)",
      "Cell \u001b[1;32mIn[2], line 1\u001b[0m\n\u001b[1;32m----> 1\u001b[0m x \u001b[38;5;241m=\u001b[39m \u001b[43mMyComponent\u001b[49m\u001b[43m(\u001b[49m\u001b[43m)\u001b[49m\n\u001b[0;32m      2\u001b[0m \u001b[38;5;28mprint\u001b[39m(\u001b[38;5;124m'\u001b[39m\u001b[38;5;124mFirst call\u001b[39m\u001b[38;5;124m'\u001b[39m)\n\u001b[0;32m      3\u001b[0m \u001b[38;5;28mprint\u001b[39m(x\u001b[38;5;241m.\u001b[39ma)\n",
      "Cell \u001b[1;32mIn[1], line 10\u001b[0m, in \u001b[0;36mMyComponent.__init__\u001b[1;34m(self, *args, **kwargs)\u001b[0m\n\u001b[0;32m      8\u001b[0m \u001b[38;5;28;01mdef\u001b[39;00m \u001b[38;5;21m__init__\u001b[39m(\u001b[38;5;28mself\u001b[39m, \u001b[38;5;241m*\u001b[39margs, \u001b[38;5;241m*\u001b[39m\u001b[38;5;241m*\u001b[39mkwargs):\n\u001b[0;32m      9\u001b[0m     \u001b[38;5;28msuper\u001b[39m()\u001b[38;5;241m.\u001b[39m\u001b[38;5;21m__init__\u001b[39m(\u001b[38;5;241m*\u001b[39margs, \u001b[38;5;241m*\u001b[39m\u001b[38;5;241m*\u001b[39mkwargs)\n\u001b[1;32m---> 10\u001b[0m     \u001b[38;5;28;43mself\u001b[39;49m\u001b[38;5;241;43m.\u001b[39;49m\u001b[43minit_state\u001b[49m(flag\u001b[38;5;241m=\u001b[39m\u001b[38;5;241m0\u001b[39m)\n",
      "File \u001b[1;32m~\\Desktop\\DP\\deepfield-team\\DeepField\\tutorials\\..\\deepfield\\field\\base_component.py:120\u001b[0m, in \u001b[0;36mBaseComponent.__getattr__\u001b[1;34m(self, key)\u001b[0m\n\u001b[0;32m    118\u001b[0m \u001b[38;5;28;01mif\u001b[39;00m key\u001b[38;5;241m.\u001b[39mupper() \u001b[38;5;129;01min\u001b[39;00m \u001b[38;5;28mself\u001b[39m\u001b[38;5;241m.\u001b[39m_data:\n\u001b[0;32m    119\u001b[0m     \u001b[38;5;28;01mreturn\u001b[39;00m \u001b[38;5;28mself\u001b[39m\u001b[38;5;241m.\u001b[39m_data[key\u001b[38;5;241m.\u001b[39mupper()]\n\u001b[1;32m--> 120\u001b[0m \u001b[38;5;28;01mraise\u001b[39;00m \u001b[38;5;167;01mAttributeError\u001b[39;00m(\u001b[38;5;124m\"\u001b[39m\u001b[38;5;132;01m{}\u001b[39;00m\u001b[38;5;124m has no attribute \u001b[39m\u001b[38;5;132;01m{}\u001b[39;00m\u001b[38;5;124m\"\u001b[39m\u001b[38;5;241m.\u001b[39mformat(\u001b[38;5;28mself\u001b[39m\u001b[38;5;241m.\u001b[39mclass_name, key))\n",
      "\u001b[1;31mAttributeError\u001b[0m: MyComponent has no attribute init_state"
     ]
    }
   ],
   "source": [
    "x = MyComponent()\n",
    "print('First call')\n",
    "print(x.a)\n",
    "print('Second call')\n",
    "print(x.a)"
   ]
  },
  {
   "cell_type": "markdown",
   "metadata": {},
   "source": [
    "The property `b` contains additional transformation that depends on state and is applied only to the output, but not to the cache:"
   ]
  },
  {
   "cell_type": "code",
   "execution_count": null,
   "metadata": {},
   "outputs": [],
   "source": [
    "x.state.flag = 0\n",
    "print(x.b)\n",
    "print(x.b)\n",
    "x.state.flag = 1\n",
    "print(x.b)\n",
    "print(x.b)"
   ]
  },
  {
   "cell_type": "markdown",
   "metadata": {},
   "source": [
    "In contrast, if `modify_cache` is `True`, the transformation modify the cache itself:"
   ]
  },
  {
   "cell_type": "code",
   "execution_count": null,
   "metadata": {},
   "outputs": [],
   "source": [
    "print(x.c)\n",
    "print(x.c)\n",
    "print(x.c)"
   ]
  },
  {
   "cell_type": "markdown",
   "metadata": {},
   "source": [
    "Done!"
   ]
  }
 ],
 "metadata": {
  "kernelspec": {
   "display_name": "Python 3 (ipykernel)",
   "language": "python",
   "name": "python3"
  },
  "language_info": {
   "codemirror_mode": {
    "name": "ipython",
    "version": 3
   },
   "file_extension": ".py",
   "mimetype": "text/x-python",
   "name": "python",
   "nbconvert_exporter": "python",
   "pygments_lexer": "ipython3",
   "version": "3.11.0"
  }
 },
 "nbformat": 4,
 "nbformat_minor": 2
}
