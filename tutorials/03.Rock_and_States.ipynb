{
 "cells": [
  {
   "cell_type": "markdown",
   "metadata": {},
   "source": [
    "# Rock and States\n",
    "\n",
    "A tutorial on Rock and States components and its transformations.\n",
    "\n",
    "### Content\n",
    "* [Basic properties](#Basic-properties)\n",
    "* [Visualization](#Visualization)\n",
    "* [Transformations](#Transformations)\n",
    "    * [Generic methods](#Generic-methods)\n",
    "    * [Upscaling](#Upscaling)"
   ]
  },
  {
   "cell_type": "markdown",
   "metadata": {},
   "source": [
    "## Basic properties"
   ]
  },
  {
   "cell_type": "markdown",
   "metadata": {},
   "source": [
    "In essence, `Rock` and `States` components are very similar, the only difference is that \n",
    "`Rock` component contains time-independent model properties in 3D arrays, e.g.\n",
    "* PORO - porosity\n",
    "* PERMX - x-permeability\n",
    "* PERMZ - y-permeability\n",
    "* PERMY - z-permeability\n",
    "\n",
    "while `States` component contains time-dependent model properties, in 4D arrays (i.e. three spatial and a single time axis), e.g.\n",
    "* PRESSURE - pore volume pressure\n",
    "* SOIL - oil saturation\n",
    "* SWAT - water saturation\n",
    "* SGAS - gas saturation\n",
    "* RS - dissolved gas content\n",
    "\n",
    "In this notebook we will mostly consider `Rock` component."
   ]
  },
  {
   "cell_type": "markdown",
   "metadata": {},
   "source": [
    "Required imports"
   ]
  },
  {
   "cell_type": "code",
   "execution_count": 1,
   "metadata": {},
   "outputs": [],
   "source": [
    "import sys\n",
    "import numpy as np\n",
    "import matplotlib.pyplot as plt\n",
    "sys.path.append('..')\n",
    "\n",
    "from deepfield import Field"
   ]
  },
  {
   "cell_type": "markdown",
   "metadata": {},
   "source": [
    "Load a model (this is the HDF5 model created in the first [tutorial](./01.Basics.ipynb)):"
   ]
  },
  {
   "cell_type": "code",
   "execution_count": 2,
   "metadata": {},
   "outputs": [
    {
     "name": "stdout",
     "output_type": "stream",
     "text": [
      "INFO:Field:===== Field summary =====\n",
      "INFO:Field:AQUIFERS attributes: \n",
      "INFO:Field:GRID attributes: MAPAXES, ACTNUM, COORD, DIMENS, ZCORN\n",
      "INFO:Field:ROCK attributes: PERMX, PERMY, PERMZ, PORO\n",
      "INFO:Field:STATES attributes: PRESSURE, RS, SGAS, SOIL, SWAT\n",
      "INFO:Field:TABLES attributes: DENSITY, PVDG, PVTO, PVTW, ROCK, SGOF, SWOF\n",
      "INFO:Field:WELLS attributes: WELSPECS, WCONINJE, WCONPROD, RESULTS, WFRAC, COMPDAT, WELLTRACK\n",
      "INFO:Field:=========================\n"
     ]
    }
   ],
   "source": [
    "model = Field(path='./norne_simplified.hdf5').load()"
   ]
  },
  {
   "cell_type": "markdown",
   "metadata": {},
   "source": [
    "List of rock attributes:"
   ]
  },
  {
   "cell_type": "code",
   "execution_count": 3,
   "metadata": {},
   "outputs": [
    {
     "data": {
      "text/plain": [
       "('PERMX', 'PERMY', 'PERMZ', 'PORO')"
      ]
     },
     "execution_count": 3,
     "metadata": {},
     "output_type": "execute_result"
    }
   ],
   "source": [
    "model.rock.attributes"
   ]
  },
  {
   "cell_type": "markdown",
   "metadata": {},
   "source": [
    "Attributes are case-insensitive:"
   ]
  },
  {
   "cell_type": "code",
   "execution_count": 4,
   "metadata": {},
   "outputs": [
    {
     "data": {
      "text/plain": [
       "True"
      ]
     },
     "execution_count": 4,
     "metadata": {},
     "output_type": "execute_result"
    }
   ],
   "source": [
    "(model.rock.poro == model.rock.PORO).all()"
   ]
  },
  {
   "cell_type": "markdown",
   "metadata": {},
   "source": [
    "Attrubutes are in a spatial shape by default (e.g. 3D or 4D):"
   ]
  },
  {
   "cell_type": "code",
   "execution_count": 5,
   "metadata": {},
   "outputs": [
    {
     "data": {
      "text/plain": [
       "(46, 112, 22)"
      ]
     },
     "execution_count": 5,
     "metadata": {},
     "output_type": "execute_result"
    }
   ],
   "source": [
    "model.rock.permx.shape"
   ]
  },
  {
   "cell_type": "markdown",
   "metadata": {},
   "source": [
    "## Visualization"
   ]
  },
  {
   "cell_type": "markdown",
   "metadata": {},
   "source": [
    "Array attributes can be visualized in 3D using a separate interactive window:\n",
    "```python\n",
    "model.show(attr='PORO')\n",
    "```\n",
    "or, alternalively, one can use a simplified inline 2D visualization"
   ]
  },
  {
   "cell_type": "code",
   "execution_count": 6,
   "metadata": {},
   "outputs": [
    {
     "data": {
      "image/png": "[encoded data removed]",
      "text/plain": [
       "<Figure size 700x500 with 1 Axes>"
      ]
     },
     "metadata": {},
     "output_type": "display_data"
    },
    {
     "data": {
      "text/plain": [
       "<deepfield.field.rock.Rock at 0x17ea803f490>"
      ]
     },
     "execution_count": 6,
     "metadata": {},
     "output_type": "execute_result"
    }
   ],
   "source": [
    "model.rock.show_cube(attr='poro', z=8, actnum=model.grid.actnum, figsize=(7, 5))"
   ]
  },
  {
   "cell_type": "markdown",
   "metadata": {},
   "source": [
    "If slice is not specified, an interactive 2D mode with slice widgets will be activated:"
   ]
  },
  {
   "cell_type": "code",
   "execution_count": 7,
   "metadata": {},
   "outputs": [
    {
     "data": {
      "application/vnd.jupyter.widget-view+json": {
       "model_id": "78018c093c2a48f5b26c0e0a9b7bf96c",
       "version_major": 2,
       "version_minor": 0
      },
      "text/plain": [
       "interactive(children=(IntSlider(value=23, description='x', max=45), IntSlider(value=56, description='y', max=1…"
      ]
     },
     "metadata": {},
     "output_type": "display_data"
    },
    {
     "data": {
      "text/plain": [
       "<deepfield.field.rock.Rock at 0x17ea803f490>"
      ]
     },
     "execution_count": 7,
     "metadata": {},
     "output_type": "execute_result"
    }
   ],
   "source": [
    "model.rock.show_cube(attr='poro', actnum=model.grid.actnum, figsize=(12, 5))"
   ]
  },
  {
   "cell_type": "markdown",
   "metadata": {},
   "source": [
    "Also for quick estimation of properties one can plot a histogram:"
   ]
  },
  {
   "cell_type": "code",
   "execution_count": 8,
   "metadata": {},
   "outputs": [
    {
     "data": {
      "image/png": "[encoded data removed]",
      "text/plain": [
       "<Figure size 640x480 with 1 Axes>"
      ]
     },
     "metadata": {},
     "output_type": "display_data"
    },
    {
     "data": {
      "text/plain": [
       "<deepfield.field.rock.Rock at 0x17ea803f490>"
      ]
     },
     "execution_count": 8,
     "metadata": {},
     "output_type": "execute_result"
    }
   ],
   "source": [
    "model.rock.show_histogram('permx', actnum=model.grid.actnum, bins=20)"
   ]
  },
  {
   "cell_type": "markdown",
   "metadata": {},
   "source": [
    "## Transformations"
   ]
  },
  {
   "cell_type": "markdown",
   "metadata": {},
   "source": [
    "Components contain many build-in methods. In general, these methods have similar signature: one needs to specify an attribute or a list of attributes, decide whether to save the result inplace or output them and provide additional keywords for particular method."
   ]
  },
  {
   "cell_type": "markdown",
   "metadata": {},
   "source": [
    "### Generic methods"
   ]
  },
  {
   "cell_type": "markdown",
   "metadata": {},
   "source": [
    "Rock contain a number of generic methods inherited from `skimage` for ndarrays transformation. \n",
    "For example, arrays can be \n",
    "* resized"
   ]
  },
  {
   "cell_type": "code",
   "execution_count": 9,
   "metadata": {},
   "outputs": [
    {
     "data": {
      "text/plain": [
       "(10, 12, 14)"
      ]
     },
     "execution_count": 9,
     "metadata": {},
     "output_type": "execute_result"
    }
   ],
   "source": [
    "poro = model.rock.resize(attr='poro', output_shape=(10, 12, 14), inplace=False)\n",
    "poro.shape"
   ]
  },
  {
   "cell_type": "markdown",
   "metadata": {},
   "source": [
    "* flipped"
   ]
  },
  {
   "cell_type": "code",
   "execution_count": 10,
   "metadata": {},
   "outputs": [],
   "source": [
    "poro = model.rock.flip(attr='poro', axis=0, inplace=False)"
   ]
  },
  {
   "cell_type": "markdown",
   "metadata": {},
   "source": [
    "* rotated"
   ]
  },
  {
   "cell_type": "code",
   "execution_count": 11,
   "metadata": {},
   "outputs": [
    {
     "name": "stdout",
     "output_type": "stream",
     "text": [
      "Original shape: (46, 112, 22)\n",
      "Rotated shape: (112, 46, 22)\n"
     ]
    }
   ],
   "source": [
    "poro = model.rock.rot90(attr='poro', k=1, inplace=False)\n",
    "print('Original shape:', model.rock.poro.shape)\n",
    "print('Rotated shape:', poro.shape)"
   ]
  },
  {
   "cell_type": "markdown",
   "metadata": {},
   "source": [
    "* randomized with some noise:"
   ]
  },
  {
   "cell_type": "code",
   "execution_count": 12,
   "metadata": {},
   "outputs": [
    {
     "data": {
      "image/png": "[encoded data removed]",
      "text/plain": [
       "<Figure size 700x500 with 1 Axes>"
      ]
     },
     "metadata": {},
     "output_type": "display_data"
    },
    {
     "data": {
      "text/plain": [
       "<deepfield.field.rock.Rock at 0x17ea803f490>"
      ]
     },
     "execution_count": 12,
     "metadata": {},
     "output_type": "execute_result"
    }
   ],
   "source": [
    "model.rock.random_noise(attr='poro', var=0.0001, inplace=True)\n",
    "model.rock.show_cube(attr='poro', z=12, actnum=model.grid.actnum, figsize=(7, 5))"
   ]
  },
  {
   "cell_type": "markdown",
   "metadata": {},
   "source": [
    "Also many methods from [`scipy.ndarray`](https://docs.scipy.org/doc/scipy/reference/ndimage.html#) module are included. E.g. we can apply median filter:"
   ]
  },
  {
   "cell_type": "code",
   "execution_count": 13,
   "metadata": {},
   "outputs": [
    {
     "data": {
      "image/png": "[encoded data removed]",
      "text/plain": [
       "<Figure size 700x500 with 1 Axes>"
      ]
     },
     "metadata": {},
     "output_type": "display_data"
    },
    {
     "data": {
      "text/plain": [
       "<deepfield.field.rock.Rock at 0x17ea803f490>"
      ]
     },
     "execution_count": 13,
     "metadata": {},
     "output_type": "execute_result"
    }
   ],
   "source": [
    "model.rock.median_filter(attr='poro', size=5, inplace=True)\n",
    "model.rock.show_cube(attr='poro', z=12, actnum=model.grid.actnum, figsize=(7, 5))"
   ]
  },
  {
   "cell_type": "markdown",
   "metadata": {},
   "source": [
    "Custom functions that accept data as its first argument can also be applied:"
   ]
  },
  {
   "cell_type": "code",
   "execution_count": 14,
   "metadata": {},
   "outputs": [
    {
     "data": {
      "image/png": "[encoded data removed]",
      "text/plain": [
       "<Figure size 700x500 with 1 Axes>"
      ]
     },
     "metadata": {},
     "output_type": "display_data"
    },
    {
     "data": {
      "text/plain": [
       "<deepfield.field.rock.Rock at 0x17ea803f490>"
      ]
     },
     "execution_count": 14,
     "metadata": {},
     "output_type": "execute_result"
    }
   ],
   "source": [
    "model.rock.apply(lambda x: x**2, attr='poro', inplace=True)\n",
    "model.rock.show_cube(attr='poro', z=12, actnum=model.grid.actnum, figsize=(7, 5))"
   ]
  },
  {
   "cell_type": "markdown",
   "metadata": {},
   "source": [
    "### Upscaling"
   ]
  },
  {
   "cell_type": "markdown",
   "metadata": {},
   "source": [
    "Unscaling of rock properties is a bit tricker than a generic arrays rescaling. For porosity upscaling a volume averaging a required: "
   ]
  },
  {
   "cell_type": "code",
   "execution_count": 15,
   "metadata": {},
   "outputs": [],
   "source": [
    "up_poro = model.rock.upscale(attr='poro', factors=2, volumes=model.grid.cell_volumes)"
   ]
  },
  {
   "cell_type": "markdown",
   "metadata": {},
   "source": [
    "For permeability upscaling porosity is a reasonable weighting factor:"
   ]
  },
  {
   "cell_type": "code",
   "execution_count": 16,
   "metadata": {},
   "outputs": [],
   "source": [
    "up_permx = model.rock.upscale(attr='permx', factors=2, volumes=model.grid.cell_volumes,\n",
    "                              weights=model.rock.poro)"
   ]
  },
  {
   "cell_type": "markdown",
   "metadata": {},
   "source": [
    "So far we are done with spatial components and move to more soecific components in the next notebooks."
   ]
  }
 ],
 "metadata": {
  "kernelspec": {
   "display_name": "Python 3 (ipykernel)",
   "language": "python",
   "name": "python3"
  },
  "language_info": {
   "codemirror_mode": {
    "name": "ipython",
    "version": 3
   },
   "file_extension": ".py",
   "mimetype": "text/x-python",
   "name": "python",
   "nbconvert_exporter": "python",
   "pygments_lexer": "ipython3",
   "version": "3.11.0"
  }
 },
 "nbformat": 4,
 "nbformat_minor": 2
}
